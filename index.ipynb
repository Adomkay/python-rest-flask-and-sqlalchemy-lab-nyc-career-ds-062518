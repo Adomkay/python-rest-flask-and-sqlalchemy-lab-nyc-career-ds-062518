{
 "cells": [
  {
   "cell_type": "markdown",
   "metadata": {},
   "source": [
    "# Flask and SQL Alchemy Lab"
   ]
  },
  {
   "cell_type": "markdown",
   "metadata": {},
   "source": [
    "## Introduction\n",
    "In this lab we are going to practice working with creating a RESTful API that returns data about Tweets and Users. In this domain Users will have many Tweets and Tweets will, therefore, belong to a User. We will be using SQL Alechemy to make our schema and database with which to persist our data. Then we will define RESTful routes and functions that Query our database and return JSON data for each resource. Let's get started!"
   ]
  },
  {
   "cell_type": "markdown",
   "metadata": {},
   "source": [
    "## Objectives\n",
    "* Define RESTful Routes that Query the **User** table\n",
    "* Define RESTful Routes that Query the **Tweet** table\n",
    "* Define RESTful Rotues that Query a **Relationship**"
   ]
  },
  {
   "cell_type": "markdown",
   "metadata": {},
   "source": [
    "**Note:** The last three routes listed are going to be *nested routes*. A nested route will contain the names for both resources. For example, if we were talking about movies and cast members and we wanted to query for a single movie's cast members our route would look like the following:\n",
    "```python\n",
    "\"/api/movies/<int:movie_id>/cast_members\" \n",
    "# returns a list of cast memebers for the movie whose id is given in the URL \n",
    "# Note that we are not returning data about the movie, but the URL is explicit about which movie we are querying\n",
    "```"
   ]
  },
  {
   "cell_type": "markdown",
   "metadata": {},
   "source": [
    "## Defining RESTful Routes for User Data"
   ]
  },
  {
   "cell_type": "markdown",
   "metadata": {},
   "source": [
    " The routes we want to query our User table should follow REST convention and return:\n",
    "    * A list of all user objects\n",
    "    * A single user object by their `id`\n",
    "    * A list of users with a matching `name`"
   ]
  },
  {
   "cell_type": "markdown",
   "metadata": {},
   "source": [
    "## Defining RESTful Routes for Tweet Data"
   ]
  },
  {
   "cell_type": "markdown",
   "metadata": {},
   "source": [
    "The routes we want to query our Tweet table should follow REST convention and return:    \n",
    "    * A list of all tweet objects\n",
    "    * A single tweet object by its `id`"
   ]
  },
  {
   "cell_type": "markdown",
   "metadata": {},
   "source": [
    "## Defining RESTful Routes that Query a Relationship"
   ]
  },
  {
   "cell_type": "markdown",
   "metadata": {},
   "source": [
    "Since we are dealing with a has many / belongs to relationship we will want to define routes that return data that shows these relationships. We will want routes that, again follow the REST convention and return data for:\n",
    "    * Tweets that belong to a user by `user_id`\n",
    "    * Tweets that belong to a user by a user's `name`   \n",
    "    * A single User that is associated to a tweet by its `id` "
   ]
  },
  {
   "cell_type": "markdown",
   "metadata": {},
   "source": [
    "## Summary"
   ]
  },
  {
   "cell_type": "markdown",
   "metadata": {},
   "source": [
    "In this lab, we practiced desigining a RESTful API that returns JSON data for Users and Tweets. We then went further and defined routes that would return information specific to the relation ship between a Tweet and a User and vice versa. By creating an API like this, we can see that it becomes much easier to leverage this information across other applications as well as our own."
   ]
  }
 ],
 "metadata": {
  "kernelspec": {
   "display_name": "Python 3",
   "language": "python",
   "name": "python3"
  },
  "language_info": {
   "codemirror_mode": {
    "name": "ipython",
    "version": 3
   },
   "file_extension": ".py",
   "mimetype": "text/x-python",
   "name": "python",
   "nbconvert_exporter": "python",
   "pygments_lexer": "ipython3",
   "version": "3.6.5"
  }
 },
 "nbformat": 4,
 "nbformat_minor": 2
}
