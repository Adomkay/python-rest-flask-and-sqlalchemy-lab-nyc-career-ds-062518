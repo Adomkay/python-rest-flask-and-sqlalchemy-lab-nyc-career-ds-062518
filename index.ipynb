{
 "cells": [
  {
   "cell_type": "markdown",
   "metadata": {},
   "source": [
    "# Flask and Flask-SQLAlchemy Lab"
   ]
  },
  {
   "cell_type": "markdown",
   "metadata": {},
   "source": [
    "## Introduction\n",
    "In this lab we are going to practice working with creating a RESTful API that returns data about Tweets and Users. In this domain Users will have many Tweets and Tweets will, therefore, belong to a User. We will be using the `flask-sqlalchemy` module to make our models, schema, and connect to our SQLite databse. Then we will define RESTful routes and functions that Query our database and return JSON data for each resource. Let's get started!"
   ]
  },
  {
   "cell_type": "markdown",
   "metadata": {},
   "source": [
    "## Objectives\n",
    "* Get started with `flask_sqlalchemy`\n",
    "* Define RESTful Routes that Query the **User** table\n",
    "* Define RESTful Routes that Query the **Tweet** table\n",
    "* **Bonus:** Define RESTful Rotues that Query a **Relationship**"
   ]
  },
  {
   "cell_type": "markdown",
   "metadata": {},
   "source": [
    "**Note:** The routes that query a Relationship are going to be *nested routes*. A nested route will contain the names for both resources. For example, if we were talking about movies and cast members and we wanted to query for a single movie's cast members our route would look like the following:\n",
    "```python\n",
    "\"/api/movies/<int:movie_id>/cast_members\" \n",
    "# returns a list of cast memebers for the movie that matches the id that is given in the URL\n",
    "\"/api/movies/<int:movie_id>/director\" \n",
    "# returns information about the director of the movie that matches the id that is given in the URL \n",
    "# Note that we are not returning data about the movie, but the URL is explicit about which movie we are querying\n",
    "```"
   ]
  },
  {
   "cell_type": "markdown",
   "metadata": {},
   "source": [
    "## Get Started with flask_sqlalchemy"
   ]
  },
  {
   "cell_type": "markdown",
   "metadata": {},
   "source": [
    "Alright, so, in order to both persist and return data for our request resources, we will need to connect our flask app to a database. In order to do this, we will need to set up SQL alchemy. Thankfully, there is a module that makes this helps with this set-up process. First we will need to `pip install flask_sqlalchemy`. Then we will need to update our imports so that we can use this module. In the app.py file, your imports should look like the following:\n",
    "```python\n",
    "    from flask import Flask, jsonify\n",
    "    from flask_sqlalchemy import SQLAlchemy\n",
    "```\n",
    "\n",
    "Next, we can instantiate an new instance of Flask for our `app` like we do for all of our flask apps. Then we need to add some configuration to our app in addition to telling the app to run with `'DEBUG' = True`. We need to also tell our app where its SQLite database is. So your app's code should look like the following:\n",
    "```python\n",
    "    # initialize new flask app\n",
    "    app = Flask(__name__)\n",
    "    # add configurations and database URI\n",
    "    app.config['DEBUG'] = True\n",
    "    app.config['SQLALCHEMY_DATABASE_URI'] = 'sqlite:///app.db'\n",
    "```\n",
    "\n",
    "Finally, we need to connect SQLalchemy to our application and create our database object, (`db`). So, we are going to take our new Flask app and use it as an argument for our SQLAlchemy module. We will set the return value to the variable `db` so we can continue to interact with our database like we have in our lessons on SQL alchemy. Your code should now include the following:\n",
    "\n",
    "```python\n",
    "    # connect flask_sqlalchemy to the configured flask app\n",
    "    db = SQLAlchemy(app)\n",
    "```\n",
    "\n",
    "We'll see that our models are already provided for us. In order to successfully create our tables in our newly connected database, we will need to use our `db` object and call the `create_all` function somewhere after we define our models.\n",
    "\n",
    "If you look at the seed.py file, we see that we have some data already provided for us and the `db.create_all()` function is being called there before we try to create any information in our database. Run this file by writing \n",
    "`python seed.py` in your terminal.\n",
    "\n",
    "And that's it! Now all we need to do is go back to our `app.py` file and create our routes. We'll be using the seed data we just created to return in our functions."
   ]
  },
  {
   "cell_type": "markdown",
   "metadata": {},
   "source": [
    "## Defining RESTful Routes for User Data"
   ]
  },
  {
   "cell_type": "markdown",
   "metadata": {},
   "source": [
    " The routes we want to query our User table should follow REST convention and return:\n",
    "    * A list of all user objects\n",
    "    * A single user object by their `id`\n",
    "    * A list of users with a matching `name`"
   ]
  },
  {
   "cell_type": "markdown",
   "metadata": {},
   "source": [
    "## Defining RESTful Routes for Tweet Data"
   ]
  },
  {
   "cell_type": "markdown",
   "metadata": {},
   "source": [
    "The routes we want to query our Tweet table should follow REST convention and return:    \n",
    "    * A list of all tweet objects\n",
    "    * A single tweet object by its `id`"
   ]
  },
  {
   "cell_type": "markdown",
   "metadata": {},
   "source": [
    "## BONUS:"
   ]
  },
  {
   "cell_type": "markdown",
   "metadata": {},
   "source": [
    "## Defining RESTful Routes that Query a Relationship"
   ]
  },
  {
   "cell_type": "markdown",
   "metadata": {},
   "source": [
    "Since we are dealing with a has many / belongs to relationship we will want to define routes that return data that shows these relationships. We will want routes that, again follow the REST convention and return data for:\n",
    "    * Tweets that belong to a user by `user_id`\n",
    "    * Tweets that belong to a user by a user's `name`   \n",
    "    * A single User that is associated to a tweet by its `id` "
   ]
  },
  {
   "cell_type": "markdown",
   "metadata": {},
   "source": [
    "## Summary"
   ]
  },
  {
   "cell_type": "markdown",
   "metadata": {},
   "source": [
    "In this lab, first we connected the flask_sqlalchemy module to our app and seeded our database with some users and tweets. Then, we practiced desigining a RESTful API that returns JSON data for our new Users and Tweets. In the bonus section, we then went further and defined routes that would return information specific to the relationship between a Tweet and a User and vice versa. By creating an API like this, we can see that it becomes much easier to leverage this information across other applications as well as our own."
   ]
  }
 ],
 "metadata": {
  "kernelspec": {
   "display_name": "Python 3",
   "language": "python",
   "name": "python3"
  },
  "language_info": {
   "codemirror_mode": {
    "name": "ipython",
    "version": 3
   },
   "file_extension": ".py",
   "mimetype": "text/x-python",
   "name": "python",
   "nbconvert_exporter": "python",
   "pygments_lexer": "ipython3",
   "version": "3.6.5"
  }
 },
 "nbformat": 4,
 "nbformat_minor": 2
}
